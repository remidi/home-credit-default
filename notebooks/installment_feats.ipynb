{
 "cells": [
  {
   "cell_type": "code",
   "execution_count": 11,
   "metadata": {},
   "outputs": [
    {
     "name": "stdout",
     "output_type": "stream",
     "text": [
      "/Users/300029144/Documents/kaggle/home_credit_default/home-credit-default/persist\n",
      ">> persist << directory already exists.\n"
     ]
    }
   ],
   "source": [
    "import pandas as pd\n",
    "import numpy as np\n",
    "\n",
    "import os\n",
    "import random\n",
    "\n",
    "import multiprocessing as mp\n",
    "import glob\n",
    "from functools import reduce\n",
    "from scipy.stats import kurtosis, iqr, skew\n",
    "from sklearn.linear_model import LinearRegression\n",
    "\n",
    "from tqdm import tqdm_notebook as tqdm\n",
    "from sklearn.externals import joblib\n",
    "from functools import partial\n",
    "\n",
    "import warnings\n",
    "warnings.filterwarnings(action='ignore')\n",
    "\n",
    "random.seed(123)\n",
    "np.random.seed(123)\n",
    "\n",
    "pd.set_option('display.max_columns', 200)\n",
    "\n",
    "root_dir = '/'.join(os.path.realpath(__name__).split('/')[:-2])\n",
    "input_dir = os.path.join(root_dir, 'input_data')\n",
    "persist_dir = os.path.join(root_dir, 'persist')\n",
    "\n",
    "def save_check_dir(dir_path):\n",
    "    if not os.path.exists(dir_path):\n",
    "        os.makedirs(dir_path)\n",
    "        print('>> {} << directory created.'.format(dir_path.split('/')[-1]))\n",
    "        \n",
    "    else:\n",
    "        print(dir_path)\n",
    "        print('>> {} << directory already exists.'.format(dir_path.split('/')[-1]))\n",
    "\n",
    "save_check_dir(persist_dir)"
   ]
  },
  {
   "cell_type": "code",
   "execution_count": 9,
   "metadata": {},
   "outputs": [],
   "source": [
    "def parallel_apply(groups, func, index_name='Index', num_workers=1, chunk_size=100000):\n",
    "    n_chunks = np.ceil(1.0 * groups.ngroups / chunk_size)\n",
    "    indeces, features = [], []\n",
    "    for index_chunk, groups_chunk in tqdm(chunk_groups(groups, chunk_size), total=n_chunks):\n",
    "        with mp.pool.Pool(num_workers) as executor:\n",
    "            features_chunk = executor.map(func, groups_chunk)\n",
    "        features.extend(features_chunk)\n",
    "        indeces.extend(index_chunk)\n",
    "\n",
    "    features = pd.DataFrame(features)\n",
    "    features.index = indeces\n",
    "    features.index.name = index_name\n",
    "    return features\n",
    "\n",
    "\n",
    "def chunk_groups(groupby_object, chunk_size):\n",
    "    n_groups = groupby_object.ngroups\n",
    "    group_chunk, index_chunk = [], []\n",
    "    for i, (index, df) in enumerate(groupby_object):\n",
    "        group_chunk.append(df)\n",
    "        index_chunk.append(index)\n",
    "\n",
    "        if (i + 1) % chunk_size == 0 or i + 1 == n_groups:\n",
    "            group_chunk_, index_chunk_ = group_chunk.copy(), index_chunk.copy()\n",
    "            group_chunk, index_chunk = [], []\n",
    "            yield index_chunk_, group_chunk_\n",
    "            \n",
    "            \n",
    "def add_features_in_group(features, gr_, feature_name, aggs, prefix):\n",
    "    for agg in aggs:\n",
    "        if agg == 'sum':\n",
    "            features['{}{}_sum'.format(prefix, feature_name)] = gr_[feature_name].sum()\n",
    "        elif agg == 'mean':\n",
    "            features['{}{}_mean'.format(prefix, feature_name)] = gr_[feature_name].mean()\n",
    "        elif agg == 'max':\n",
    "            features['{}{}_max'.format(prefix, feature_name)] = gr_[feature_name].max()\n",
    "        elif agg == 'min':\n",
    "            features['{}{}_min'.format(prefix, feature_name)] = gr_[feature_name].min()\n",
    "        elif agg == 'std':\n",
    "            features['{}{}_std'.format(prefix, feature_name)] = gr_[feature_name].std()\n",
    "        elif agg == 'count':\n",
    "            features['{}{}_count'.format(prefix, feature_name)] = gr_[feature_name].count()\n",
    "        elif agg == 'skew':\n",
    "            features['{}{}_skew'.format(prefix, feature_name)] = skew(gr_[feature_name])\n",
    "        elif agg == 'kurt':\n",
    "            features['{}{}_kurt'.format(prefix, feature_name)] = kurtosis(gr_[feature_name])\n",
    "        elif agg == 'iqr':\n",
    "            features['{}{}_iqr'.format(prefix, feature_name)] = iqr(gr_[feature_name])\n",
    "        elif agg == 'median':\n",
    "            features['{}{}_median'.format(prefix, feature_name)] = gr_[feature_name].median()\n",
    "\n",
    "    return features\n",
    "\n",
    "\n",
    "def add_trend_feature(features, gr, feature_name, prefix):\n",
    "    y = gr[feature_name].values\n",
    "    try:\n",
    "        x = np.arange(0, len(y)).reshape(-1, 1)\n",
    "        lr = LinearRegression()\n",
    "        lr.fit(x, y)\n",
    "        trend = lr.coef_[0]\n",
    "    except:\n",
    "        trend = np.nan\n",
    "    features['{}{}'.format(prefix, feature_name)] = trend\n",
    "    return features\n",
    "\n",
    "\n",
    "def get_feature_names_by_period(features, period):\n",
    "    return sorted([feat for feat in features.keys() if '_{}_'.format(period) in feat])\n",
    "\n",
    "\n",
    "\n",
    "def safe_div(a, b):\n",
    "    try:\n",
    "        return float(a) / float(b)\n",
    "    except:\n",
    "        return 0.0"
   ]
  },
  {
   "cell_type": "code",
   "execution_count": 12,
   "metadata": {},
   "outputs": [],
   "source": [
    "class InstallmentPaymentsFeatures(object):\n",
    "    def __init__(self, last_k_agg_periods, last_k_agg_period_fractions, last_k_trend_periods, num_workers=7, **kwargs):\n",
    "        self.last_k_agg_periods = last_k_agg_periods\n",
    "        self.last_k_agg_period_fractions = last_k_agg_period_fractions\n",
    "        self.last_k_trend_periods = last_k_trend_periods\n",
    "\n",
    "        self.num_workers = num_workers\n",
    "        self.features = None\n",
    "\n",
    "    def fit(self, installments, **kwargs):\n",
    "        installments['installment_paid_late_in_days'] = installments['DAYS_ENTRY_PAYMENT'] - installments[\n",
    "            'DAYS_INSTALMENT']\n",
    "        installments['installment_paid_late'] = (installments['installment_paid_late_in_days'] > 0).astype(int)\n",
    "        installments['installment_paid_over_amount'] = installments['AMT_PAYMENT'] - installments['AMT_INSTALMENT']\n",
    "        installments['installment_paid_over'] = (installments['installment_paid_over_amount'] > 0).astype(int)\n",
    "\n",
    "        features = pd.DataFrame({'SK_ID_CURR': installments['SK_ID_CURR'].unique()})\n",
    "        groupby = installments.groupby(['SK_ID_CURR'])\n",
    "\n",
    "        func = partial(InstallmentPaymentsFeatures.generate_features,\n",
    "                       agg_periods=self.last_k_agg_periods,\n",
    "                       period_fractions=self.last_k_agg_period_fractions,\n",
    "                       trend_periods=self.last_k_trend_periods)\n",
    "        g = parallel_apply(groupby, func, index_name='SK_ID_CURR', num_workers=self.num_workers).reset_index()\n",
    "        features = features.merge(g, on='SK_ID_CURR', how='left')\n",
    "\n",
    "        self.features = features\n",
    "        return self\n",
    "\n",
    "    @staticmethod\n",
    "    def generate_features(gr, agg_periods, trend_periods, period_fractions):\n",
    "        all = InstallmentPaymentsFeatures.all_installment_features(gr)\n",
    "        agg = InstallmentPaymentsFeatures.last_k_installment_features_with_fractions(gr,\n",
    "                                                                                     agg_periods,\n",
    "                                                                                     period_fractions)\n",
    "        trend = InstallmentPaymentsFeatures.trend_in_last_k_installment_features(gr, trend_periods)\n",
    "        last = InstallmentPaymentsFeatures.last_loan_features(gr)\n",
    "        features = {**all, **agg, **trend, **last}\n",
    "        return pd.Series(features)\n",
    "\n",
    "    @staticmethod\n",
    "    def all_installment_features(gr):\n",
    "        return InstallmentPaymentsFeatures.last_k_installment_features(gr, periods=[10e16])\n",
    "\n",
    "    @staticmethod\n",
    "    def last_k_installment_features_with_fractions(gr, periods, period_fractions):\n",
    "        features = InstallmentPaymentsFeatures.last_k_installment_features(gr, periods)\n",
    "\n",
    "        for short_period, long_period in period_fractions:\n",
    "            short_feature_names = get_feature_names_by_period(features, short_period)\n",
    "            long_feature_names = get_feature_names_by_period(features, long_period)\n",
    "\n",
    "            for short_feature, long_feature in zip(short_feature_names, long_feature_names):\n",
    "                old_name_chunk = '_{}_'.format(short_period)\n",
    "                new_name_chunk = '_{}by{}_fraction_'.format(short_period, long_period)\n",
    "                fraction_feature_name = short_feature.replace(old_name_chunk, new_name_chunk)\n",
    "                features[fraction_feature_name] = safe_div(features[short_feature], features[long_feature])\n",
    "        return features\n",
    "\n",
    "    @staticmethod\n",
    "    def last_k_installment_features(gr, periods):\n",
    "        gr_ = gr.copy()\n",
    "        gr_.sort_values(['DAYS_INSTALMENT'], ascending=False, inplace=True)\n",
    "\n",
    "        features = {}\n",
    "        for period in periods:\n",
    "            if period > 10e10:\n",
    "                period_name = 'all_installment_'\n",
    "                gr_period = gr_.copy()\n",
    "            else:\n",
    "                period_name = 'last_{}_'.format(period)\n",
    "                gr_period = gr_.iloc[:period]\n",
    "\n",
    "            features = add_features_in_group(features, gr_period, 'NUM_INSTALMENT_VERSION',\n",
    "                                             ['sum', 'mean', 'max', 'min', 'std', 'median', 'skew', 'kurt', 'iqr'],\n",
    "                                             period_name)\n",
    "\n",
    "            features = add_features_in_group(features, gr_period, 'installment_paid_late_in_days',\n",
    "                                             ['sum', 'mean', 'max', 'min', 'std', 'median', 'skew', 'kurt', 'iqr'],\n",
    "                                             period_name)\n",
    "            features = add_features_in_group(features, gr_period, 'installment_paid_late',\n",
    "                                             ['count', 'mean'],\n",
    "                                             period_name)\n",
    "            features = add_features_in_group(features, gr_period, 'installment_paid_over_amount',\n",
    "                                             ['sum', 'mean', 'max', 'min', 'std', 'median', 'skew', 'kurt', 'iqr'],\n",
    "                                             period_name)\n",
    "            features = add_features_in_group(features, gr_period, 'installment_paid_over',\n",
    "                                             ['count', 'mean'],\n",
    "                                             period_name)\n",
    "        return features\n",
    "\n",
    "    @staticmethod\n",
    "    def trend_in_last_k_installment_features(gr, periods):\n",
    "        gr_ = gr.copy()\n",
    "        gr_.sort_values(['DAYS_INSTALMENT'], ascending=False, inplace=True)\n",
    "\n",
    "        features = {}\n",
    "        for period in periods:\n",
    "            gr_period = gr_.iloc[:period]\n",
    "\n",
    "            features = add_trend_feature(features, gr_period,\n",
    "                                         'installment_paid_late_in_days', '{}_period_trend_'.format(period)\n",
    "                                         )\n",
    "            features = add_trend_feature(features, gr_period,\n",
    "                                         'installment_paid_over_amount', '{}_period_trend_'.format(period)\n",
    "                                         )\n",
    "        return features\n",
    "\n",
    "    @staticmethod\n",
    "    def last_loan_features(gr):\n",
    "        gr_ = gr.copy()\n",
    "        gr_.sort_values(['DAYS_INSTALMENT'], ascending=False, inplace=True)\n",
    "        last_installment_id = gr_['SK_ID_PREV'].iloc[0]\n",
    "        gr_ = gr_[gr_['SK_ID_PREV'] == last_installment_id]\n",
    "\n",
    "        features = {}\n",
    "        features = add_features_in_group(features, gr_,\n",
    "                                         'installment_paid_late_in_days',\n",
    "                                         ['sum', 'mean', 'max', 'min', 'std'],\n",
    "                                         'last_loan_')\n",
    "        features = add_features_in_group(features, gr_,\n",
    "                                         'installment_paid_late',\n",
    "                                         ['count', 'mean'],\n",
    "                                         'last_loan_')\n",
    "        features = add_features_in_group(features, gr_,\n",
    "                                         'installment_paid_over_amount',\n",
    "                                         ['sum', 'mean', 'max', 'min', 'std'],\n",
    "                                         'last_loan_')\n",
    "        features = add_features_in_group(features, gr_,\n",
    "                                         'installment_paid_over',\n",
    "                                         ['count', 'mean'],\n",
    "                                         'last_loan_')\n",
    "        return features"
   ]
  },
  {
   "cell_type": "code",
   "execution_count": 6,
   "metadata": {},
   "outputs": [],
   "source": [
    "installments = pd.read_csv(os.path.join(input_dir, 'installments_payments.csv'))"
   ]
  },
  {
   "cell_type": "code",
   "execution_count": 13,
   "metadata": {},
   "outputs": [
    {
     "data": {
      "application/vnd.jupyter.widget-view+json": {
       "model_id": "7e7e6d03ee714d8586dfbecf856b7179",
       "version_major": 2,
       "version_minor": 0
      },
      "text/plain": [
       "HBox(children=(IntProgress(value=0, max=4), HTML(value='')))"
      ]
     },
     "metadata": {},
     "output_type": "display_data"
    },
    {
     "name": "stdout",
     "output_type": "stream",
     "text": [
      "\n",
      "\n"
     ]
    }
   ],
   "source": [
    "installment_obj = InstallmentPaymentsFeatures(last_k_agg_periods=[60, 180, 360, 720, 1500], \n",
    "                                              last_k_agg_period_fractions=[(60,180),(60,360),(180,1500),(360,1500)], \n",
    "                                              last_k_trend_periods=[180, 360, 720])\n",
    "\n",
    "installment_obj.fit(installments)\n",
    "features = installment_obj.features"
   ]
  },
  {
   "cell_type": "code",
   "execution_count": 19,
   "metadata": {},
   "outputs": [
    {
     "data": {
      "application/vnd.jupyter.widget-view+json": {
       "model_id": "aa63e4cebfc940f7b63fa809f009ff43",
       "version_major": 2,
       "version_minor": 0
      },
      "text/plain": [
       "HBox(children=(IntProgress(value=0, max=1), HTML(value='')))"
      ]
     },
     "metadata": {},
     "output_type": "display_data"
    },
    {
     "data": {
      "application/vnd.jupyter.widget-view+json": {
       "model_id": "7bc5d95b58184faea52803be37f1d160",
       "version_major": 2,
       "version_minor": 0
      },
      "text/plain": [
       "HBox(children=(IntProgress(value=0, max=30), HTML(value='')))"
      ]
     },
     "metadata": {},
     "output_type": "display_data"
    },
    {
     "name": "stdout",
     "output_type": "stream",
     "text": [
      "\n"
     ]
    }
   ],
   "source": [
    "INSTALLMENTS_PAYMENTS_AGGREGATION_RECIPIES = []\n",
    "for agg in ['mean', 'min', 'max', 'sum', 'var']:\n",
    "    for select in ['AMT_INSTALMENT',\n",
    "                   'AMT_PAYMENT',\n",
    "                   'DAYS_ENTRY_PAYMENT',\n",
    "                   'DAYS_INSTALMENT',\n",
    "                   'NUM_INSTALMENT_NUMBER',\n",
    "                   'NUM_INSTALMENT_VERSION'\n",
    "                   ]:\n",
    "        INSTALLMENTS_PAYMENTS_AGGREGATION_RECIPIES.append((select, agg))\n",
    "INSTALLMENTS_PAYMENTS_AGGREGATION_RECIPIES = [(['SK_ID_CURR'], INSTALLMENTS_PAYMENTS_AGGREGATION_RECIPIES)]\n",
    "\n",
    "\n",
    "groupby_aggregate_names = []\n",
    "for groupby_cols, specs in tqdm(INSTALLMENTS_PAYMENTS_AGGREGATION_RECIPIES):\n",
    "    group_object = installments.groupby(groupby_cols)\n",
    "    for select, agg in tqdm(specs):\n",
    "        groupby_aggregate_name = '{}_{}_{}'.format('_'.join(groupby_cols), agg, select)\n",
    "        features = features.merge(group_object[select]\n",
    "                              .agg(agg)\n",
    "                              .reset_index()\n",
    "                              .rename(index=str,\n",
    "                                      columns={select: groupby_aggregate_name})\n",
    "                              [groupby_cols + [groupby_aggregate_name]],\n",
    "                              on=groupby_cols,\n",
    "                              how='left')\n",
    "        groupby_aggregate_names.append(groupby_aggregate_name)"
   ]
  },
  {
   "cell_type": "code",
   "execution_count": 20,
   "metadata": {},
   "outputs": [
    {
     "data": {
      "text/plain": [
       "361"
      ]
     },
     "execution_count": 20,
     "metadata": {},
     "output_type": "execute_result"
    }
   ],
   "source": [
    "len(features.columns)"
   ]
  },
  {
   "cell_type": "code",
   "execution_count": 21,
   "metadata": {},
   "outputs": [
    {
     "data": {
      "text/plain": [
       "['/Users/300029144/Documents/kaggle/home_credit_default/home-credit-default/persist/installment_payments.pkl']"
      ]
     },
     "execution_count": 21,
     "metadata": {},
     "output_type": "execute_result"
    }
   ],
   "source": [
    "joblib.dump(features, os.path.join(persist_dir, 'installment_payments.pkl'))"
   ]
  }
 ],
 "metadata": {
  "kernelspec": {
   "display_name": "Python 3",
   "language": "python",
   "name": "python3"
  },
  "language_info": {
   "codemirror_mode": {
    "name": "ipython",
    "version": 3
   },
   "file_extension": ".py",
   "mimetype": "text/x-python",
   "name": "python",
   "nbconvert_exporter": "python",
   "pygments_lexer": "ipython3",
   "version": "3.6.4"
  }
 },
 "nbformat": 4,
 "nbformat_minor": 2
}
