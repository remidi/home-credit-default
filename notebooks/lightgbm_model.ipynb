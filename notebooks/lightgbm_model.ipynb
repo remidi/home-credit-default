{
 "cells": [
  {
   "cell_type": "code",
   "execution_count": 4,
   "metadata": {},
   "outputs": [],
   "source": [
    "import lightgbm as lgb\n",
    "import pandas as pd\n",
    "import numpy as np\n",
    "\n",
    "from sklearn.externals import joblib\n",
    "from attrdict import AttrDict"
   ]
  },
  {
   "cell_type": "code",
   "execution_count": null,
   "metadata": {},
   "outputs": [],
   "source": [
    "class LightGBM(object):\n",
    "    def __init__(self, params):\n",
    "        self.params = params\n",
    "        self.estimator = \n",
    "        \n",
    "    def fit(self, x, y, x_valid, y_valid, \n",
    "            categorical_features='auto',\n",
    "            feature_names='auto'\n",
    "            **kwargs):\n",
    "        \n",
    "        \n",
    "        data_train = lgb.Dataset(data=x,\n",
    "                                 label=y,\n",
    "                                 feature_name=feature_names,\n",
    "                                 categorical_feature=categorical_features,\n",
    "                                 **kwargs)\n",
    "        data_valid = lgb.Dataset(x_valid,\n",
    "                                 label=y_valid,\n",
    "                                 feature_name=feature_names,\n",
    "                                 categorical_feature=categorical_features,\n",
    "                                 **kwargs)\n",
    "\n",
    "        self.estimator = lgb.train(self.model_config,\n",
    "                                   data_train,\n",
    "                                   feature_name=feature_names,\n",
    "                                   categorical_feature=categorical_features,\n",
    "                                   valid_sets=[data_train, data_valid],\n",
    "                                   valid_names=['data_train', 'data_valid'],\n",
    "                                   evals_result=evaluation_results,\n",
    "                                   num_boost_round=self.training_config.number_boosting_rounds,\n",
    "                                   early_stopping_rounds=self.training_config.early_stopping_rounds,\n",
    "                                   verbose_eval=self.model_config.verbose,\n",
    "                                   feval=self.evaluation_function,\n",
    "                                   callbacks=self.callbacks,\n",
    "                                   **kwargs)\n",
    "        \n",
    "        \n",
    "        \n",
    "        return self"
   ]
  }
 ],
 "metadata": {
  "kernelspec": {
   "display_name": "Python 3",
   "language": "python",
   "name": "python3"
  },
  "language_info": {
   "codemirror_mode": {
    "name": "ipython",
    "version": 3
   },
   "file_extension": ".py",
   "mimetype": "text/x-python",
   "name": "python",
   "nbconvert_exporter": "python",
   "pygments_lexer": "ipython3",
   "version": "3.6.4"
  }
 },
 "nbformat": 4,
 "nbformat_minor": 2
}
