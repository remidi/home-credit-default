{
 "cells": [
  {
   "cell_type": "code",
   "execution_count": 5,
   "metadata": {},
   "outputs": [],
   "source": [
    "import lightgbm as lgb\n",
    "import pandas as pd\n",
    "import numpy as np\n",
    "import os\n",
    "\n",
    "from sklearn.externals import joblib\n",
    "from attrdict import AttrDict"
   ]
  },
  {
   "cell_type": "code",
   "execution_count": null,
   "metadata": {},
   "outputs": [],
   "source": []
  },
  {
   "cell_type": "code",
   "execution_count": 7,
   "metadata": {},
   "outputs": [],
   "source": [
    "class LightGBM(object):\n",
    "    def __init__(self, params):\n",
    "        self.params = params\n",
    "        self.root_dir = '/'.join(os.path.realpath(__name__).split('/')[:-2])\n",
    "        \n",
    "        \n",
    "    def fit(self, X, y, X_valid, y_valid, \n",
    "            categorical_features='auto',\n",
    "            feature_names='auto',\n",
    "            **kwargs):\n",
    "        \n",
    "        \n",
    "        data_train = lgb.Dataset(data=X,\n",
    "                                 label=y,\n",
    "                                 feature_name=feature_names,\n",
    "                                 categorical_feature=categorical_features,\n",
    "                                 **kwargs)\n",
    "        data_valid = lgb.Dataset(X_valid,\n",
    "                                 label=y_valid,\n",
    "                                 feature_name=feature_names,\n",
    "                                 categorical_feature=categorical_features,\n",
    "                                 **kwargs)\n",
    "\n",
    "        self.estimator = lgb.train(self.model_config,\n",
    "                                   data_train,\n",
    "                                   feature_name=feature_names,\n",
    "                                   categorical_feature=categorical_features,\n",
    "                                   valid_sets=[data_train, data_valid],\n",
    "                                   valid_names=['data_train', 'data_valid'])\n",
    "        \n",
    "        \n",
    "        \n",
    "        \n",
    "        \n",
    "        return self\n",
    "    \n",
    "    \n",
    "    def save(self):\n",
    "        joblib.dump(self.estimator, os.path.join(root_dir, 'persist'))\n",
    "        \n",
    "    def predict(self, X, proba=True):\n",
    "        if proba:\n",
    "            return self.estimator.predict_proba(X)\n",
    "        else:\n",
    "            return self.estimator.predict(X)\n",
    "        \n",
    "        \n",
    "    def set_params(self):\n",
    "        self.estimator(params=self.params)\n",
    "        return self\n",
    "        "
   ]
  }
 ],
 "metadata": {
  "kernelspec": {
   "display_name": "Python 3",
   "language": "python",
   "name": "python3"
  },
  "language_info": {
   "codemirror_mode": {
    "name": "ipython",
    "version": 3
   },
   "file_extension": ".py",
   "mimetype": "text/x-python",
   "name": "python",
   "nbconvert_exporter": "python",
   "pygments_lexer": "ipython3",
   "version": "3.6.4"
  }
 },
 "nbformat": 4,
 "nbformat_minor": 2
}
